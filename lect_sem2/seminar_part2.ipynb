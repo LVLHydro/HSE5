{
 "cells": [
  {
   "cell_type": "markdown",
   "id": "3b63c83f",
   "metadata": {},
   "source": []
  },
  {
   "cell_type": "markdown",
   "id": "14a2f423",
   "metadata": {},
   "source": [
    "На сегодняшнем занятии будем работать с датасетом BlackFriday (ниже есть его описание):\n",
    "\n",
    "https://www.kaggle.com/mehdidag/black-friday/version/1\n",
    "\n",
    "Description The dataset here is a sample of the transactions made in a retail store. The store wants to know better the customer purchase behaviour against different products. Specifically, here the problem is a regression problem where we are trying to predict the dependent variable (the amount of purchase) with the help of the information contained in the other variables.\n",
    "\n",
    "Classification problem can also be settled in this dataset since several variables are categorical, and some other approaches could be \"Predicting the age of the consumer\" or even \"Predict the category of goods bought\". This dataset is also particularly convenient for clustering and maybe find different clusters of consumers within it."
   ]
  },
  {
   "cell_type": "code",
   "execution_count": 6,
   "id": "7a28bb73",
   "metadata": {
    "ExecuteTime": {
     "end_time": "2021-09-11T10:01:51.826358Z",
     "start_time": "2021-09-11T10:01:51.772025Z"
    }
   },
   "outputs": [
    {
     "name": "stdout",
     "output_type": "stream",
     "text": [
      "Populating the interactive namespace from numpy and matplotlib\n"
     ]
    }
   ],
   "source": [
    "import numpy as np\n",
    "import pandas as pd\n",
    "import matplotlib.pyplot as plt\n",
    "import seaborn as sns\n",
    "\n",
    "%pylab inline"
   ]
  },
  {
   "cell_type": "code",
   "execution_count": 8,
   "id": "cfaa3862",
   "metadata": {
    "ExecuteTime": {
     "end_time": "2021-09-11T10:03:16.085497Z",
     "start_time": "2021-09-11T10:03:15.667995Z"
    }
   },
   "outputs": [
    {
     "data": {
      "text/html": [
       "<div>\n",
       "<style scoped>\n",
       "    .dataframe tbody tr th:only-of-type {\n",
       "        vertical-align: middle;\n",
       "    }\n",
       "\n",
       "    .dataframe tbody tr th {\n",
       "        vertical-align: top;\n",
       "    }\n",
       "\n",
       "    .dataframe thead th {\n",
       "        text-align: right;\n",
       "    }\n",
       "</style>\n",
       "<table border=\"1\" class=\"dataframe\">\n",
       "  <thead>\n",
       "    <tr style=\"text-align: right;\">\n",
       "      <th></th>\n",
       "      <th>User_ID</th>\n",
       "      <th>Product_ID</th>\n",
       "      <th>Gender</th>\n",
       "      <th>Age</th>\n",
       "      <th>Occupation</th>\n",
       "      <th>City_Category</th>\n",
       "      <th>Stay_In_Current_City_Years</th>\n",
       "      <th>Marital_Status</th>\n",
       "      <th>Product_Category_1</th>\n",
       "      <th>Product_Category_2</th>\n",
       "      <th>Product_Category_3</th>\n",
       "      <th>Purchase</th>\n",
       "    </tr>\n",
       "  </thead>\n",
       "  <tbody>\n",
       "    <tr>\n",
       "      <th>0</th>\n",
       "      <td>1000001</td>\n",
       "      <td>P00069042</td>\n",
       "      <td>F</td>\n",
       "      <td>0-17</td>\n",
       "      <td>10</td>\n",
       "      <td>A</td>\n",
       "      <td>2</td>\n",
       "      <td>0</td>\n",
       "      <td>3</td>\n",
       "      <td>NaN</td>\n",
       "      <td>NaN</td>\n",
       "      <td>8370</td>\n",
       "    </tr>\n",
       "    <tr>\n",
       "      <th>1</th>\n",
       "      <td>1000001</td>\n",
       "      <td>P00248942</td>\n",
       "      <td>F</td>\n",
       "      <td>0-17</td>\n",
       "      <td>10</td>\n",
       "      <td>A</td>\n",
       "      <td>2</td>\n",
       "      <td>0</td>\n",
       "      <td>1</td>\n",
       "      <td>6.0</td>\n",
       "      <td>14.0</td>\n",
       "      <td>15200</td>\n",
       "    </tr>\n",
       "    <tr>\n",
       "      <th>2</th>\n",
       "      <td>1000001</td>\n",
       "      <td>P00087842</td>\n",
       "      <td>F</td>\n",
       "      <td>0-17</td>\n",
       "      <td>10</td>\n",
       "      <td>A</td>\n",
       "      <td>2</td>\n",
       "      <td>0</td>\n",
       "      <td>12</td>\n",
       "      <td>NaN</td>\n",
       "      <td>NaN</td>\n",
       "      <td>1422</td>\n",
       "    </tr>\n",
       "    <tr>\n",
       "      <th>3</th>\n",
       "      <td>1000001</td>\n",
       "      <td>P00085442</td>\n",
       "      <td>F</td>\n",
       "      <td>0-17</td>\n",
       "      <td>10</td>\n",
       "      <td>A</td>\n",
       "      <td>2</td>\n",
       "      <td>0</td>\n",
       "      <td>12</td>\n",
       "      <td>14.0</td>\n",
       "      <td>NaN</td>\n",
       "      <td>1057</td>\n",
       "    </tr>\n",
       "    <tr>\n",
       "      <th>4</th>\n",
       "      <td>1000002</td>\n",
       "      <td>P00285442</td>\n",
       "      <td>M</td>\n",
       "      <td>55+</td>\n",
       "      <td>16</td>\n",
       "      <td>C</td>\n",
       "      <td>4+</td>\n",
       "      <td>0</td>\n",
       "      <td>8</td>\n",
       "      <td>NaN</td>\n",
       "      <td>NaN</td>\n",
       "      <td>7969</td>\n",
       "    </tr>\n",
       "  </tbody>\n",
       "</table>\n",
       "</div>"
      ],
      "text/plain": [
       "   User_ID Product_ID Gender   Age  Occupation City_Category  \\\n",
       "0  1000001  P00069042      F  0-17          10             A   \n",
       "1  1000001  P00248942      F  0-17          10             A   \n",
       "2  1000001  P00087842      F  0-17          10             A   \n",
       "3  1000001  P00085442      F  0-17          10             A   \n",
       "4  1000002  P00285442      M   55+          16             C   \n",
       "\n",
       "  Stay_In_Current_City_Years  Marital_Status  Product_Category_1  \\\n",
       "0                          2               0                   3   \n",
       "1                          2               0                   1   \n",
       "2                          2               0                  12   \n",
       "3                          2               0                  12   \n",
       "4                         4+               0                   8   \n",
       "\n",
       "   Product_Category_2  Product_Category_3  Purchase  \n",
       "0                 NaN                 NaN      8370  \n",
       "1                 6.0                14.0     15200  \n",
       "2                 NaN                 NaN      1422  \n",
       "3                14.0                 NaN      1057  \n",
       "4                 NaN                 NaN      7969  "
      ]
     },
     "execution_count": 8,
     "metadata": {},
     "output_type": "execute_result"
    }
   ],
   "source": [
    "data = pd.read_csv('BlackFriday.csv')\n",
    "data.head()"
   ]
  },
  {
   "cell_type": "markdown",
   "id": "c9f91864",
   "metadata": {},
   "source": [
    "# Подготовка данных"
   ]
  },
  {
   "cell_type": "code",
   "execution_count": 9,
   "id": "d5479dfd",
   "metadata": {
    "ExecuteTime": {
     "end_time": "2021-09-11T10:03:43.438931Z",
     "start_time": "2021-09-11T10:03:43.435256Z"
    }
   },
   "outputs": [
    {
     "data": {
      "text/plain": [
       "(550068, 12)"
      ]
     },
     "execution_count": 9,
     "metadata": {},
     "output_type": "execute_result"
    }
   ],
   "source": [
    "data.shape"
   ]
  },
  {
   "cell_type": "code",
   "execution_count": 10,
   "id": "3929e2e6",
   "metadata": {
    "ExecuteTime": {
     "end_time": "2021-09-11T10:03:49.634979Z",
     "start_time": "2021-09-11T10:03:49.537587Z"
    }
   },
   "outputs": [
    {
     "data": {
      "text/plain": [
       "Product_Category_3    383247\n",
       "Product_Category_2    173638\n",
       "Purchase                   0\n",
       "Product_Category_1         0\n",
       "Marital_Status             0\n",
       "dtype: int64"
      ]
     },
     "execution_count": 10,
     "metadata": {},
     "output_type": "execute_result"
    }
   ],
   "source": [
    "missing_values = data.isnull().sum().sort_values(ascending = False)\n",
    "missing_values.head()"
   ]
  },
  {
   "cell_type": "markdown",
   "id": "86d1ab3d",
   "metadata": {},
   "source": [
    "Скорее всего NaN-ы в Product_Category_2 и Product_Category_3 означают, что человек не покупал продукты из этих категорий.\n",
    "\n",
    "Поэтому можем заменить эти пропущенные значения на 0."
   ]
  },
  {
   "cell_type": "code",
   "execution_count": 12,
   "id": "94efd922",
   "metadata": {
    "ExecuteTime": {
     "end_time": "2021-09-11T10:04:29.426853Z",
     "start_time": "2021-09-11T10:04:29.246208Z"
    }
   },
   "outputs": [],
   "source": [
    "data = data.fillna(0)"
   ]
  },
  {
   "cell_type": "code",
   "execution_count": null,
   "id": "5bb14c91",
   "metadata": {},
   "outputs": [],
   "source": []
  },
  {
   "cell_type": "markdown",
   "id": "b8c75107",
   "metadata": {},
   "source": [
    "Посмотрим, какие типы данных есть в нашем датасете.\n",
    "\n",
    "Выведите на экран тип каждой колонки в таблице."
   ]
  },
  {
   "cell_type": "code",
   "execution_count": 13,
   "id": "53039295",
   "metadata": {
    "ExecuteTime": {
     "end_time": "2021-09-11T10:05:25.297197Z",
     "start_time": "2021-09-11T10:05:25.294819Z"
    }
   },
   "outputs": [],
   "source": [
    "\n",
    "#your code here"
   ]
  },
  {
   "cell_type": "markdown",
   "id": "6977b24d",
   "metadata": {},
   "source": [
    "\n",
    "Обработаем нечисловые колонки.\n",
    "\n",
    "1) Выведите на экран все возможные значения из столбца Gender.\n",
    "\n",
    "2) Замените в столбце Gender значение 'M' на 1, а 'F' на 0."
   ]
  },
  {
   "cell_type": "code",
   "execution_count": 14,
   "id": "2083af6a",
   "metadata": {
    "ExecuteTime": {
     "end_time": "2021-09-11T10:05:37.895114Z",
     "start_time": "2021-09-11T10:05:37.891956Z"
    }
   },
   "outputs": [],
   "source": [
    "#your code here"
   ]
  },
  {
   "cell_type": "markdown",
   "id": "aaedfedc",
   "metadata": {},
   "source": [
    "\n",
    "Поработаем со столбцом Age.\n",
    "\n",
    "1) Выведите на экран все возможные значения из столбца Age.\n",
    "\n",
    "2) Напишите функцию для перевода каждого диапазона возрастов в число (самые маленькие возрасты - 0, следующий диапазон - 1 и т.д.). Замените значения в столбце Age на числовые, применив эту функцию."
   ]
  },
  {
   "cell_type": "code",
   "execution_count": 15,
   "id": "19b828e1",
   "metadata": {
    "ExecuteTime": {
     "end_time": "2021-09-11T10:06:02.462569Z",
     "start_time": "2021-09-11T10:06:02.441529Z"
    }
   },
   "outputs": [
    {
     "data": {
      "text/plain": [
       "array(['0-17', '55+', '26-35', '46-50', '51-55', '36-45', '18-25'],\n",
       "      dtype=object)"
      ]
     },
     "execution_count": 15,
     "metadata": {},
     "output_type": "execute_result"
    }
   ],
   "source": [
    "data['Age'].unique()"
   ]
  },
  {
   "cell_type": "code",
   "execution_count": 18,
   "id": "b88e4c7b",
   "metadata": {
    "ExecuteTime": {
     "end_time": "2021-09-11T10:06:23.349598Z",
     "start_time": "2021-09-11T10:06:23.346622Z"
    }
   },
   "outputs": [],
   "source": [
    "def map_age(age):\n",
    "    if age == '0-17':\n",
    "        return 0\n",
    "    elif age == '18-25':\n",
    "        return 1\n",
    "        #your code here\n",
    "        \n",
    "#data['Age'] = data['Age'].apply(map_age)"
   ]
  },
  {
   "cell_type": "markdown",
   "id": "7d35f557",
   "metadata": {},
   "source": [
    "Обработаем столбец City_Category.\n",
    "\n",
    "1) Выведите все уникальные значения данного столбца.\n",
    "\n",
    "2) Закодируйте столбец с помощью OneHotEncoding (get_dummies)."
   ]
  },
  {
   "cell_type": "code",
   "execution_count": 19,
   "id": "e878cef9",
   "metadata": {
    "ExecuteTime": {
     "end_time": "2021-09-11T10:06:42.505251Z",
     "start_time": "2021-09-11T10:06:42.329574Z"
    }
   },
   "outputs": [
    {
     "data": {
      "text/html": [
       "<div>\n",
       "<style scoped>\n",
       "    .dataframe tbody tr th:only-of-type {\n",
       "        vertical-align: middle;\n",
       "    }\n",
       "\n",
       "    .dataframe tbody tr th {\n",
       "        vertical-align: top;\n",
       "    }\n",
       "\n",
       "    .dataframe thead th {\n",
       "        text-align: right;\n",
       "    }\n",
       "</style>\n",
       "<table border=\"1\" class=\"dataframe\">\n",
       "  <thead>\n",
       "    <tr style=\"text-align: right;\">\n",
       "      <th></th>\n",
       "      <th>User_ID</th>\n",
       "      <th>Product_ID</th>\n",
       "      <th>Gender</th>\n",
       "      <th>Age</th>\n",
       "      <th>Occupation</th>\n",
       "      <th>Stay_In_Current_City_Years</th>\n",
       "      <th>Marital_Status</th>\n",
       "      <th>Product_Category_1</th>\n",
       "      <th>Product_Category_2</th>\n",
       "      <th>Product_Category_3</th>\n",
       "      <th>Purchase</th>\n",
       "      <th>City_Category_A</th>\n",
       "      <th>City_Category_B</th>\n",
       "      <th>City_Category_C</th>\n",
       "    </tr>\n",
       "  </thead>\n",
       "  <tbody>\n",
       "    <tr>\n",
       "      <th>0</th>\n",
       "      <td>1000001</td>\n",
       "      <td>P00069042</td>\n",
       "      <td>F</td>\n",
       "      <td>0-17</td>\n",
       "      <td>10</td>\n",
       "      <td>2</td>\n",
       "      <td>0</td>\n",
       "      <td>3</td>\n",
       "      <td>0.0</td>\n",
       "      <td>0.0</td>\n",
       "      <td>8370</td>\n",
       "      <td>1</td>\n",
       "      <td>0</td>\n",
       "      <td>0</td>\n",
       "    </tr>\n",
       "    <tr>\n",
       "      <th>1</th>\n",
       "      <td>1000001</td>\n",
       "      <td>P00248942</td>\n",
       "      <td>F</td>\n",
       "      <td>0-17</td>\n",
       "      <td>10</td>\n",
       "      <td>2</td>\n",
       "      <td>0</td>\n",
       "      <td>1</td>\n",
       "      <td>6.0</td>\n",
       "      <td>14.0</td>\n",
       "      <td>15200</td>\n",
       "      <td>1</td>\n",
       "      <td>0</td>\n",
       "      <td>0</td>\n",
       "    </tr>\n",
       "    <tr>\n",
       "      <th>2</th>\n",
       "      <td>1000001</td>\n",
       "      <td>P00087842</td>\n",
       "      <td>F</td>\n",
       "      <td>0-17</td>\n",
       "      <td>10</td>\n",
       "      <td>2</td>\n",
       "      <td>0</td>\n",
       "      <td>12</td>\n",
       "      <td>0.0</td>\n",
       "      <td>0.0</td>\n",
       "      <td>1422</td>\n",
       "      <td>1</td>\n",
       "      <td>0</td>\n",
       "      <td>0</td>\n",
       "    </tr>\n",
       "    <tr>\n",
       "      <th>3</th>\n",
       "      <td>1000001</td>\n",
       "      <td>P00085442</td>\n",
       "      <td>F</td>\n",
       "      <td>0-17</td>\n",
       "      <td>10</td>\n",
       "      <td>2</td>\n",
       "      <td>0</td>\n",
       "      <td>12</td>\n",
       "      <td>14.0</td>\n",
       "      <td>0.0</td>\n",
       "      <td>1057</td>\n",
       "      <td>1</td>\n",
       "      <td>0</td>\n",
       "      <td>0</td>\n",
       "    </tr>\n",
       "    <tr>\n",
       "      <th>4</th>\n",
       "      <td>1000002</td>\n",
       "      <td>P00285442</td>\n",
       "      <td>M</td>\n",
       "      <td>55+</td>\n",
       "      <td>16</td>\n",
       "      <td>4+</td>\n",
       "      <td>0</td>\n",
       "      <td>8</td>\n",
       "      <td>0.0</td>\n",
       "      <td>0.0</td>\n",
       "      <td>7969</td>\n",
       "      <td>0</td>\n",
       "      <td>0</td>\n",
       "      <td>1</td>\n",
       "    </tr>\n",
       "  </tbody>\n",
       "</table>\n",
       "</div>"
      ],
      "text/plain": [
       "   User_ID Product_ID Gender   Age  Occupation Stay_In_Current_City_Years  \\\n",
       "0  1000001  P00069042      F  0-17          10                          2   \n",
       "1  1000001  P00248942      F  0-17          10                          2   \n",
       "2  1000001  P00087842      F  0-17          10                          2   \n",
       "3  1000001  P00085442      F  0-17          10                          2   \n",
       "4  1000002  P00285442      M   55+          16                         4+   \n",
       "\n",
       "   Marital_Status  Product_Category_1  Product_Category_2  Product_Category_3  \\\n",
       "0               0                   3                 0.0                 0.0   \n",
       "1               0                   1                 6.0                14.0   \n",
       "2               0                  12                 0.0                 0.0   \n",
       "3               0                  12                14.0                 0.0   \n",
       "4               0                   8                 0.0                 0.0   \n",
       "\n",
       "   Purchase  City_Category_A  City_Category_B  City_Category_C  \n",
       "0      8370                1                0                0  \n",
       "1     15200                1                0                0  \n",
       "2      1422                1                0                0  \n",
       "3      1057                1                0                0  \n",
       "4      7969                0                0                1  "
      ]
     },
     "execution_count": 19,
     "metadata": {},
     "output_type": "execute_result"
    }
   ],
   "source": [
    "\n",
    "#your code here\n",
    "data['City_Category'].unique()\n",
    "\n",
    "data = pd.get_dummies(data, columns=['City_Category'], dtype=int)\n",
    "data.head()"
   ]
  },
  {
   "cell_type": "markdown",
   "id": "d086422b",
   "metadata": {},
   "source": [
    "Наконец, обработаем Stay_In_Current_City_Years.\n",
    "\n",
    "1) Выведите на экран все уникальные значения данного столбца.\n",
    "\n",
    "2) Замените '4+' на 4, а все остальные значения оставьте как есть, но переведите их в числовой вид (x -> int(x))."
   ]
  },
  {
   "cell_type": "code",
   "execution_count": null,
   "id": "b1047495",
   "metadata": {
    "ExecuteTime": {
     "end_time": "2021-09-11T10:07:16.021783Z",
     "start_time": "2021-09-11T10:07:16.019093Z"
    }
   },
   "outputs": [],
   "source": [
    "data['Stay_In_Current_City_Years'].unique()\n",
    "\n",
    "def map_stay(years):\n",
    "    #your code here\n",
    "    \n",
    "data['Stay_In_Current_City_Years'] = #your code here"
   ]
  },
  {
   "cell_type": "code",
   "execution_count": null,
   "id": "f4710e50",
   "metadata": {},
   "outputs": [],
   "source": [
    "data.head()"
   ]
  },
  {
   "cell_type": "code",
   "execution_count": null,
   "id": "6878c0de",
   "metadata": {},
   "outputs": [],
   "source": [
    "#Удалим столбцы User_ID и Product_ID, так как они не несут полезной для нас информации.\n",
    "\n",
    "\n",
    "#your code here\n",
    "\n",
    "data.head()"
   ]
  },
  {
   "cell_type": "markdown",
   "id": "b88aa2a6",
   "metadata": {},
   "source": [
    "# Исследование данных"
   ]
  },
  {
   "cell_type": "markdown",
   "id": "74d183a0",
   "metadata": {},
   "source": [
    "Как влияет пол на целевую переменную Purchase? Постройте диаграмму (barplot).\n",
    "\n",
    "Как влияет возраст на целевую переменную Purchase? Постройте диаграмму (barplot).\n",
    "\n",
    "Как влияет City_Category на целевую переменную Purchase? Постройте диаграмму (barplot)."
   ]
  },
  {
   "cell_type": "code",
   "execution_count": null,
   "id": "c007f184",
   "metadata": {},
   "outputs": [],
   "source": [
    "#your code here\n",
    "Нарисуйте матрицу корреляций признаков.\n",
    "\n",
    "plt.figure(figsize=(12,9))\n",
    "#your code here"
   ]
  },
  {
   "cell_type": "markdown",
   "id": "d41d34ac",
   "metadata": {},
   "source": [
    "# Масштабирование (нормализация) признаков в линейных моделях"
   ]
  },
  {
   "cell_type": "markdown",
   "id": "5f7eb019",
   "metadata": {},
   "source": [
    "В линейных и метрических (основанных на вычислении расстояния между объектами) моделях необходимо масштабировать признаки.\n",
    "\n",
    "Нормализация признаков - приведение всех признаков к одинаковому масштабу (например, приведение всех значений на отрезок $[0;1]$).\n",
    "\n",
    "Зачем нужна нормализация? Если машстабы измерений признаков существенно (на несколько порядков) различаются, то появляется опасноcть, что будут учитываться только «крупномасштабные» признаки.\n",
    "\n",
    "Как делать нормализацию в Python: StandardScaler или MinMaxScaler из библиотеки sklearn.preprocessing."
   ]
  },
  {
   "cell_type": "markdown",
   "id": "ca0c047e",
   "metadata": {},
   "source": [
    "# Построение модели"
   ]
  },
  {
   "cell_type": "code",
   "execution_count": null,
   "id": "da5f56b7",
   "metadata": {
    "ExecuteTime": {
     "end_time": "2021-09-11T10:10:39.497526Z",
     "start_time": "2021-09-11T10:10:39.143276Z"
    }
   },
   "outputs": [],
   "source": [
    "from sklearn.metrics import r2_score, mean_squared_error\n",
    "from sklearn.model_selection import train_test_split\n",
    "from sklearn.linear_model import LinearRegression\n",
    "from sklearn.preprocessing import StandardScaler\n",
    "\n",
    "X = data.copy()\n",
    "\n",
    "y = data['Purchase']\n",
    "X.drop(['Purchase'], axis=1, inplace=True)\n",
    "\n",
    "indices = np.arange(len(X))\n",
    "\n",
    "Xtrain, Xtest, ytrain, ytest, idx_train, idx_test = train_test_split(\n",
    "                                                    X, y, indices, test_size=0.2, random_state=111)\n",
    "\n",
    "scaler = StandardScaler().fit(Xtrain)\n",
    "Xtrain = scaler.transform(Xtrain)\n",
    "Xtest = scaler.transform(Xtest)\n",
    "\n",
    "regressor = LinearRegression()\n",
    "regressor.fit(Xtrain, ytrain)\n",
    "\n",
    "ypred_train = regressor.predict(Xtrain)\n",
    "ypred_test = regressor.predict(Xtest§)\n",
    "\n",
    "r2_score(ytrain,ypred_train), r2_score(ytest,ypred_test)"
   ]
  },
  {
   "cell_type": "markdown",
   "id": "bde3c206",
   "metadata": {},
   "source": [
    "Посмотрим на веса обученной модели."
   ]
  },
  {
   "cell_type": "code",
   "execution_count": null,
   "id": "af02014a",
   "metadata": {},
   "outputs": [],
   "source": [
    "coefficients = pd.concat([pd.DataFrame(X.columns),pd.DataFrame(np.transpose(regressor.coef_))], axis = 1)\n",
    "coefficients"
   ]
  },
  {
   "cell_type": "markdown",
   "id": "37364342",
   "metadata": {},
   "source": [
    "Добавим L1 регуляризацию."
   ]
  },
  {
   "cell_type": "code",
   "execution_count": null,
   "id": "4526e9b4",
   "metadata": {},
   "outputs": [],
   "source": [
    "from sklearn.linear_model import Lasso\n",
    "\n",
    "regressor2 = Lasso(alpha=10)\n",
    "regressor2.fit(Xtrain, ytrain)\n",
    "\n",
    "ypred2 = regressor2.predict(Xtest)\n",
    "\n",
    "print('Scores:', r2_score(ytest,ypred2), mean_squared_error(ytest,ypred2))\n",
    "print(regressor2.coef_,'\\n')"
   ]
  },
  {
   "cell_type": "markdown",
   "id": "60fb038c",
   "metadata": {},
   "source": [
    "\n",
    "Посмотрим, что происходит при разных значениях параметра регуляризации $\\alpha$"
   ]
  },
  {
   "cell_type": "code",
   "execution_count": null,
   "id": "3bde57e5",
   "metadata": {},
   "outputs": [],
   "source": [
    "from sklearn.linear_model import Lasso\n",
    "\n",
    "for a in np.arange(0.1,100.1,25):\n",
    "    regressor2 = Lasso(alpha=a)\n",
    "    regressor2.fit(Xtrain, ytrain)\n",
    "\n",
    "    ypred2 = regressor2.predict(Xtest)\n",
    "\n",
    "    print('alpha={}'.format(a))\n",
    "    print('Scores:', r2_score(ytest,ypred2), mean_squared_error(ytest,ypred2))\n",
    "    print(regressor2.coef_,'\\n')"
   ]
  },
  {
   "cell_type": "markdown",
   "id": "7297d062",
   "metadata": {},
   "source": [
    "\n",
    "\n",
    "Видим, что L1-регуляризация зануляет некоторые веса и таким образом производит отбор признаков.\n",
    "\n",
    "Подберем оптимальное значение параметра регуляризации по кросс-валидации"
   ]
  },
  {
   "cell_type": "code",
   "execution_count": null,
   "id": "d5d7359b",
   "metadata": {},
   "outputs": [],
   "source": [
    "from sklearn.linear_model import LassoCV\n",
    "\n",
    "n_alphas = 200\n",
    "alphas = np.linspace(0.1, 10, n_alphas)\n",
    "\n",
    "lasso_cv = LassoCV(alphas=alphas, \n",
    "                   cv=3, random_state=17)\n",
    "lasso_cv.fit(X, y)"
   ]
  },
  {
   "cell_type": "code",
   "execution_count": null,
   "id": "96b2dbc8",
   "metadata": {},
   "outputs": [],
   "source": [
    "\n",
    "lasso_cv.coef_"
   ]
  },
  {
   "cell_type": "code",
   "execution_count": null,
   "id": "3601a16b",
   "metadata": {},
   "outputs": [],
   "source": [
    "lasso_cv.alpha_"
   ]
  },
  {
   "cell_type": "markdown",
   "id": "2bd3bca7",
   "metadata": {},
   "source": [
    "Обучим модель с найденным параметром регуляризации $\\alpha$"
   ]
  },
  {
   "cell_type": "code",
   "execution_count": null,
   "id": "0eb55e71",
   "metadata": {},
   "outputs": [],
   "source": [
    "\n",
    "regressor2 = Lasso(alpha=lasso_cv.alpha_)\n",
    "\n",
    "regressor2.fit(Xtrain, ytrain)\n",
    "\n",
    "ypred2_train = regressor2.predict(Xtrain)\n",
    "ypred2_test = regressor2.predict(Xtest)\n",
    "\n",
    "print('Scores:', r2_score(ytrain,ypred2_train), r2_score(ytest,ypred2_test))\n",
    "Добавим L2 регуляризацию."
   ]
  },
  {
   "cell_type": "code",
   "execution_count": null,
   "id": "6d358b96",
   "metadata": {},
   "outputs": [],
   "source": [
    "from sklearn.linear_model import Ridge\n",
    "\n",
    "for a in np.arange(-10,10.1,2.5):\n",
    "    regressor3 = Ridge(alpha=a)\n",
    "    regressor3.fit(Xtrain, ytrain)\n",
    "\n",
    "    ypred3 = regressor3.predict(Xtest)\n",
    "\n",
    "    print('alpha={}'.format(a))\n",
    "    print('Scores:',r2_score(ytest,ypred3), mean_squared_error(ytest,ypred3))\n",
    "    print(regressor3.coef_)"
   ]
  },
  {
   "cell_type": "markdown",
   "id": "79510164",
   "metadata": {},
   "source": [
    "\n",
    "Ridge регрессия не зануляет веса (они могут быть очень маленькими, но ненулевыми).\n",
    "\n",
    "Теперь подберем оптимальное a по кросс-валидации."
   ]
  },
  {
   "cell_type": "code",
   "execution_count": null,
   "id": "73ed9e56",
   "metadata": {},
   "outputs": [],
   "source": [
    "from sklearn.linear_model import RidgeCV\n",
    "\n",
    "n_alphas = 200\n",
    "ridge_alphas = np.logspace(-2, 6, n_alphas)\n",
    "\n",
    "ridge_cv = RidgeCV(alphas=ridge_alphas, \n",
    "                   scoring='neg_mean_squared_error',\n",
    "                   cv=3)\n",
    "ridge_cv.fit(X, y)"
   ]
  },
  {
   "cell_type": "code",
   "execution_count": null,
   "id": "307c7186",
   "metadata": {},
   "outputs": [],
   "source": [
    "ridge_cv.alpha_"
   ]
  },
  {
   "cell_type": "code",
   "execution_count": null,
   "id": "7a77a14e",
   "metadata": {},
   "outputs": [],
   "source": [
    "\n",
    "regressor3 = Lasso(alpha=ridge_cv.alpha_)\n",
    "\n",
    "regressor3.fit(Xtrain, ytrain)\n",
    "\n",
    "ypred3_train = regressor3.predict(Xtrain)\n",
    "ypred3_test = regressor3.predict(Xtest)\n",
    "\n",
    "print('Scores:', r2_score(ytrain,ypred3_train), r2_score(ytest,ypred3_test))"
   ]
  },
  {
   "cell_type": "markdown",
   "id": "74c0b737",
   "metadata": {},
   "source": [
    "Добавим одновременно и L1, и L2 регуляризацию.\n",
    "\n",
    "У ElasticNet два параметра: alpha и l1_ratio. Используйте ElasticNet со значениями параметров alpha и l1_ratio равными 0.5.\n",
    "\n",
    "https://scikit-learn.org/stable/modules/generated/sklearn.linear_model.ElasticNet.html\n",
    "\n"
   ]
  },
  {
   "cell_type": "code",
   "execution_count": null,
   "id": "24c95d2d",
   "metadata": {},
   "outputs": [],
   "source": [
    "from sklearn.linear_model import ElasticNet"
   ]
  },
  {
   "cell_type": "code",
   "execution_count": null,
   "id": "9461359e",
   "metadata": {},
   "outputs": [],
   "source": []
  }
 ],
 "metadata": {
  "kernelspec": {
   "display_name": "MTS ED",
   "language": "python",
   "name": "shad"
  },
  "language_info": {
   "codemirror_mode": {
    "name": "ipython",
    "version": 3
   },
   "file_extension": ".py",
   "mimetype": "text/x-python",
   "name": "python",
   "nbconvert_exporter": "python",
   "pygments_lexer": "ipython3",
   "version": "3.7.3"
  }
 },
 "nbformat": 4,
 "nbformat_minor": 5
}
